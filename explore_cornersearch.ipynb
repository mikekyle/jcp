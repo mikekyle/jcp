{
 "cells": [
  {
   "cell_type": "code",
   "execution_count": 1,
   "metadata": {},
   "outputs": [],
   "source": [
    "import sente\n",
    "import glob\n",
    "import re\n",
    "import jcp_driver\n",
    "import pandas as pd"
   ]
  },
  {
   "cell_type": "code",
   "execution_count": 2,
   "metadata": {},
   "outputs": [],
   "source": [
    "allgames = glob.glob('..\\\\go4go_collection\\\\*.sgf')"
   ]
  },
  {
   "cell_type": "code",
   "execution_count": 32,
   "metadata": {},
   "outputs": [],
   "source": [
    "#game = sente.sgf.load(allgames[-1])"
   ]
  },
  {
   "cell_type": "code",
   "execution_count": 12,
   "metadata": {},
   "outputs": [],
   "source": [
    "#game.advance_to_root()\n"
   ]
  },
  {
   "cell_type": "code",
   "execution_count": 33,
   "metadata": {},
   "outputs": [
    {
     "data": {
      "text/plain": [
       "'W33W52B25B45B13W22B64W73W36B34W23B24W12B74W84B85W83W57B38W49W28B39W37B76W26B29W66B65W77B87W78B88W79W19B46W47B17W16B18W27W05B14W08W07B43W42W89B99W53B44W15W98W97B86B91W92B81W71'"
      ]
     },
     "execution_count": 33,
     "metadata": {},
     "output_type": "execute_result"
    }
   ],
   "source": [
    "#seq = game.get_default_sequence()\n",
    "##get a top left corner 10x10 string\n",
    "#\"\".join([str(x.get_stone())[6]+str(x.get_x())+str(x.get_y()) for x in seq if x.get_x()<10 and x.get_y()<10])\n",
    "##intead lets get the whole game as triples\n",
    "##trips = [(str(x.get_stone())[6],x.get_x(),x.get_y()) for x in seq]\n",
    "\n",
    "##len([str(x.get_stone())[6]+str(x.get_x())+str(x.get_y()) for x in seq if x.get_x()<10 and x.get_y()<10])\n"
   ]
  },
  {
   "cell_type": "code",
   "execution_count": 3,
   "metadata": {},
   "outputs": [],
   "source": [
    "def get_cornerstring(seq: list, reflection: int = 0,rotation: int = 0) -> str:\n",
    "    mod_seq = seq.copy()\n",
    "    for i in range(reflection):\n",
    "        mod_seq = jcp_driver.ref_seq(mod_seq)\n",
    "    for i in range(rotation):\n",
    "        mod_seq = jcp_driver.rot_seq(mod_seq)\n",
    "    return \"\".join([str(x.get_stone())[6]+str(x.get_x())+str(x.get_y()) for x in mod_seq if x.get_x()<10 and x.get_y()<10])"
   ]
  },
  {
   "cell_type": "code",
   "execution_count": 51,
   "metadata": {},
   "outputs": [
    {
     "data": {
      "text/plain": [
       "'B32W24B53W38B49B39W29W28B98B99B26W36B35W25B16W33B22W45B37W46B27W48W42B43W47B72W89W19B23W34B14W15B13W05W97B88W79W96B59W71B61W69W77W81B82W92B91W41B52'"
      ]
     },
     "execution_count": 51,
     "metadata": {},
     "output_type": "execute_result"
    }
   ],
   "source": [
    "#get_cornerstring(seq,0,2)"
   ]
  },
  {
   "cell_type": "code",
   "execution_count": 4,
   "metadata": {},
   "outputs": [],
   "source": [
    "def get_corners(path: str) -> str:\n",
    "    game = sente.sgf.load(path)\n",
    "    seq = game.get_default_sequence()\n",
    "    return ''.join([get_cornerstring(seq,i,j)+f',{path},{1-i},{-j%4}\\n' for i in range(2) for j in range(4)])\n"
   ]
  },
  {
   "cell_type": "code",
   "execution_count": 23,
   "metadata": {},
   "outputs": [
    {
     "data": {
      "text/plain": [
       "3"
      ]
     },
     "execution_count": 23,
     "metadata": {},
     "output_type": "execute_result"
    }
   ],
   "source": [
    "k=1\n",
    "-k%4"
   ]
  },
  {
   "cell_type": "code",
   "execution_count": 61,
   "metadata": {},
   "outputs": [
    {
     "data": {
      "text/plain": [
       "'W33W52B25B45B13W22B64W73W36B34W23B24W12B74W84B85W83W57B38W49W28B39W37B76W26B29W66B65W77B87W78B88W79W19B46W47B17W16B18W27W05B14W08W07B43W42W89B99W53B44W15W98W97B86B91W92B81W71,..\\\\go4go_collection\\\\__go4go_20181208_Park-Sangjin_Cho-Seungah.sgf,0,0\\nW33B22W32B23W25B24W34B15W21B11W14B31W12B20W13B21W16B35W26B52W45B73W82B36W54B72W37W75B85B76W65B86W94B84B93B92W97B89W91W81B83B71B80B57W98B99W67B68W78B77W46W79B88W69B87W29B19W18B66W01B02W03B42,..\\\\go4go_collection\\\\__go4go_20181208_Park-Sangjin_Cho-Seungah.sgf,0,1\\nB32W24B53W38B49B39W29W28B98B99B26W36B35W25B16W33B22W45B37W46B27W48W42B43W47B72W89W19B23W34B14W15B13W05W97B88W79W96B59W71B61W69W77W81B82W92B91W41B52,..\\\\go4go_collection\\\\__go4go_20181208_Park-Sangjin_Cho-Seungah.sgf,0,2\\nB33B25W41B31B94B93W92B82B81W36B35W56W32B42W22B51W43B52W26B45W46B99B68W77B48W89B78W88B67W79W55B54B87W98B76W28B15W91B08B19W29W97W21B40W23B14W83B95W73B72W96B85B64,..\\\\go4go_collection\\\\__go4go_20181208_Park-Sangjin_Cho-Seungah.sgf,0,3\\nW33W25B52B54B31W22B46W37W63B43W32B42W21B47W48B58W38W75B83W94W82B93W73B67W62B92W66B56W77B78W87B88W97W91B64W74B71W61B81W72W50B41W80W70B34W24W98B99W35B44W51W89W79B68B19W29B18W17,..\\\\go4go_collection\\\\__go4go_20181208_Park-Sangjin_Cho-Seungah.sgf,1,0\\nB33B52W14B13B49B39W29B28B18W63B53W65W23B24W22B15W34B25W62B54W64B99B86W77B84W98B87W88B76W97W55B45B78W89B67W82B51W19B80B91W92W79W12B04W32B41W38B59W37B27W69B58B46,..\\\\go4go_collection\\\\__go4go_20181208_Park-Sangjin_Cho-Seungah.sgf,1,1\\nB23W42B35W83B94B93W92W82B89B99B62W63B53W52B61W33B22W54B73W64B72W84W24B34W74B27W98W91B32W43B41W51B31W50W79B88W97W69B95W17B16W96W77W18B28W29B19W14B25,..\\\\go4go_collection\\\\__go4go_20181208_Park-Sangjin_Cho-Seungah.sgf,1,2\\nW33B22W23B32W52B42W43B51W12B11W41B13W21B02W31B12W61B53W62B25W54B37W28B63W45B27W73W57B58B67W56B68W49B48B39B29W79B98W19W18B38B17B08B75W89B99W76B86W87B77W64W97B88W96B78W92B91W81B66W10B20W30B24,..\\\\go4go_collection\\\\__go4go_20181208_Park-Sangjin_Cho-Seungah.sgf,1,3\\n'"
      ]
     },
     "execution_count": 61,
     "metadata": {},
     "output_type": "execute_result"
    }
   ],
   "source": [
    "#get_corners(allgames[-1])"
   ]
  },
  {
   "cell_type": "code",
   "execution_count": 5,
   "metadata": {},
   "outputs": [
    {
     "name": "stdout",
     "output_type": "stream",
     "text": [
      "..\\go4go_collection\\__go4go_19960426_Takemiya-Masaki_Liu-Xiaoguang.sgf\n",
      "..\\go4go_collection\\__go4go_19981019_Yoda-Norimoto_Chang-Hao.sgf\n",
      "..\\go4go_collection\\__go4go_19990425_Ishii-Shinzo_Nishida-Terumi.sgf\n",
      "..\\go4go_collection\\__go4go_20010423_Wang-Lei-(b)_Zhou-Heyang.sgf\n",
      "..\\go4go_collection\\__go4go_20020328_Park-Shiun_Yun-Yeongseon.sgf\n",
      "..\\go4go_collection\\__go4go_20020627_Catalin-Taranu_Tsuchida-Masamitsu.sgf\n",
      "..\\go4go_collection\\__go4go_20020803_Chang-Hao_Shao-Weigang.sgf\n",
      "..\\go4go_collection\\__go4go_20080227_Cho-Chikun_Yamashita-Keigo.sgf\n",
      "..\\go4go_collection\\__go4go_20090306_Fan-Tingyu_Tao-Xinran.sgf\n",
      "..\\go4go_collection\\__go4go_20090505_Zhang-Li_Zhang-Qiang.sgf\n",
      "..\\go4go_collection\\__go4go_20090906_Cho-U_Nakaonoda-Tomomi.sgf\n",
      "..\\go4go_collection\\__go4go_20100513_Cho-Chikun_Takemiya-Masaki.sgf\n",
      "..\\go4go_collection\\__go4go_20100703_Matsumoto-Takehisa_Cho-U.sgf\n",
      "..\\go4go_collection\\__go4go_20101125_Hei-Jiajia_Yoshida-Mika.sgf\n",
      "..\\go4go_collection\\__go4go_20160107_Yuki-Satoshi_Ohashi-Naruya.sgf\n",
      "..\\go4go_collection\\__go4go_20160430_Artem-Kachanovskyi_Pavol-Lisy.sgf\n",
      "..\\go4go_collection\\__go4go_20170920_Cai-Jing_Wang-Shiyi.sgf\n",
      "..\\go4go_collection\\__go4go_20170920_Liao-Yuanhe_Han-Yizhou.sgf\n",
      "..\\go4go_collection\\__go4go_20171030_Kim-Jiseok_Han-Yizhou.sgf\n",
      "..\\go4go_collection\\__go4go_20181114_Nishi-Takenobu_Nakano-Yasuhiro.sgf\n"
     ]
    }
   ],
   "source": [
    "with open('..\\\\go4go_collection\\\\cornerindex_v3.txt','w') as f:\n",
    "    for g in allgames:\n",
    "        try:\n",
    "            f.write(get_corners(g))\n",
    "        except:\n",
    "            print(g)"
   ]
  },
  {
   "cell_type": "code",
   "execution_count": 13,
   "metadata": {},
   "outputs": [],
   "source": [
    "def get_matchlines(pattern: str) ->list:\n",
    "    inv_pattern = pattern.replace('B','Z').replace('W','B').replace('Z','W')\n",
    "    with open('..\\\\go4go_collection\\\\cornerindex_v3.txt','r') as f:\n",
    "    #with open('..\\\\go4go_collection\\\\cornerindex.txt','r') as f:\n",
    "    #with open('..\\\\go4go_collection\\\\cornerindex_swaprotref.txt','r') as f:\n",
    "        lines = f.readlines()\n",
    "    return [line[:-1] for line in lines if line[:len(pattern)] in [pattern,inv_pattern]]"
   ]
  },
  {
   "cell_type": "code",
   "execution_count": 7,
   "metadata": {},
   "outputs": [
    {
     "data": {
      "text/plain": [
       "[['..\\\\go4go_collection\\\\__go4go_20181108_Fukui-Masaaki_Kurotaki-Masanori.sgf',\n",
       "  '1',\n",
       "  '3\\n'],\n",
       " ['..\\\\go4go_collection\\\\__go4go_20181025_Lee-Sula_Choi-Jeong.sgf',\n",
       "  '0',\n",
       "  '3\\n'],\n",
       " ['..\\\\go4go_collection\\\\__go4go_20181018_Lin-Shixun_Chen-Qirui.sgf',\n",
       "  '0',\n",
       "  '2\\n'],\n",
       " ['..\\\\go4go_collection\\\\__go4go_20181004_Kang-Seungmin_Park-Minkyu.sgf',\n",
       "  '0',\n",
       "  '2\\n'],\n",
       " ['..\\\\go4go_collection\\\\__go4go_20180717_Hong-Kipyo_Weon-Seongjin.sgf',\n",
       "  '0',\n",
       "  '2\\n'],\n",
       " ['..\\\\go4go_collection\\\\__go4go_20180624_Park-Geunho_Han-Sanghoon.sgf',\n",
       "  '0',\n",
       "  '2\\n'],\n",
       " ['..\\\\go4go_collection\\\\__go4go_20180607_Aoki-Kikuyo_Tsukuda-Akiko.sgf',\n",
       "  '1',\n",
       "  '3\\n'],\n",
       " ['..\\\\go4go_collection\\\\__go4go_20180509_Kan-Minu_Honda-Kunihisa.sgf',\n",
       "  '0',\n",
       "  '0\\n'],\n",
       " ['..\\\\go4go_collection\\\\__go4go_20180427_Xiao-Zhenghao_Lin-Lixiang.sgf',\n",
       "  '1',\n",
       "  '3\\n']]"
      ]
     },
     "execution_count": 7,
     "metadata": {},
     "output_type": "execute_result"
    }
   ],
   "source": [
    "[x.split(',')[1:] for x in get_matchlines('B23W42B72')][:-10:-1]"
   ]
  },
  {
   "cell_type": "code",
   "execution_count": 43,
   "metadata": {},
   "outputs": [
    {
     "data": {
      "text/plain": [
       "['W23B42W72B94B95B87W34B44W45B54W55B64W65B75W32W76B74W98B97W86B96W92B67W66B77B39W29B19W28B18W79B62W31B71W81B73W51B82W83B41W40B93W72B27W48B82W72B47W37B58W36B38W49B82W72B89W88B82W72B78W99B82W72B52W69B82W72B61W50B82W72',\n",
       " '..\\\\go4go_collection\\\\__go4go_20180423_Tuo-Jiaxi_Fan-Yin.sgf',\n",
       " '1',\n",
       " '3']"
      ]
     },
     "execution_count": 43,
     "metadata": {},
     "output_type": "execute_result"
    }
   ],
   "source": [
    "firstmatch = get_matchlines('B23W42B72')[-12]\n",
    "firstmatch.split(\",\")"
   ]
  },
  {
   "cell_type": "code",
   "execution_count": 52,
   "metadata": {},
   "outputs": [
    {
     "data": {
      "text/plain": [
       "'__go4go_20180423_Tuo-Jiaxi_Fan-Yin.sgf,6,99,1,3'"
      ]
     },
     "execution_count": 52,
     "metadata": {},
     "output_type": "execute_result"
    }
   ],
   "source": [
    "def matchstring_to_matchestxt(matchstring,pattern):\n",
    "    game = sente.sgf.load(matchstring.split(\",\")[1])\n",
    "    seq = game.get_default_sequence()\n",
    "    mod_seq = seq.copy()\n",
    "    for i in range(1-int(matchstring.split(\",\")[2])):\n",
    "        mod_seq = jcp_driver.ref_seq(mod_seq)\n",
    "    for i in range(-int(matchstring.split(\",\")[3])%4):\n",
    "        mod_seq = jcp_driver.rot_seq(mod_seq)\n",
    "    matchstart = min([x[0] for x in enumerate(mod_seq) if str(x[1].get_x())+str(x[1].get_y())==pattern[-2:]])+1\n",
    "    matchend = min([x[0] for x in enumerate(mod_seq) if str(x[1].get_x())+str(x[1].get_y())==matchstring[len(pattern)+1:len(pattern)+3]])+1\n",
    "    sgfname = matchstring.split(\",\")[1].split(\"\\\\\")[2]\n",
    "    return f'{sgfname},{matchstart},{matchend},{matchstring.split(\",\")[2]},{matchstring.split(\",\")[3]}'\n",
    "    #[(x[0],str(x[1].get_x())+str(x[1].get_y())) for x in enumerate(seq)]# if str(x[1].get_x())+str(x[1].get_y())=='B23W42B72'[-2:]]\n",
    "matchstring_to_matchestxt(firstmatch,'B23W42B72')"
   ]
  },
  {
   "cell_type": "code",
   "execution_count": 60,
   "metadata": {},
   "outputs": [
    {
     "data": {
      "text/plain": [
       "['__go4go_20181108_Fukui-Masaaki_Kurotaki-Masanori.sgf,7,8,1,3',\n",
       " '__go4go_20181025_Lee-Sula_Choi-Jeong.sgf,27,28,0,3',\n",
       " '__go4go_20181018_Lin-Shixun_Chen-Qirui.sgf,7,8,0,2',\n",
       " '__go4go_20181004_Kang-Seungmin_Park-Minkyu.sgf,23,24,0,2',\n",
       " '__go4go_20180717_Hong-Kipyo_Weon-Seongjin.sgf,13,14,0,2',\n",
       " '__go4go_20180624_Park-Geunho_Han-Sanghoon.sgf,45,46,0,2',\n",
       " '__go4go_20180607_Aoki-Kikuyo_Tsukuda-Akiko.sgf,25,26,1,3',\n",
       " '__go4go_20180509_Kan-Minu_Honda-Kunihisa.sgf,8,9,0,0',\n",
       " '__go4go_20180427_Xiao-Zhenghao_Lin-Lixiang.sgf,16,17,1,3']"
      ]
     },
     "execution_count": 60,
     "metadata": {},
     "output_type": "execute_result"
    }
   ],
   "source": [
    "def get_matchlinestxt(pattern: str) ->list:\n",
    "    matchlines = get_matchlines(pattern)\n",
    "    return [matchstring_to_matchestxt(line,pattern) for line in matchlines]\n",
    "\n",
    "get_matchlinestxt('B23W42B72')[:-10:-1]\n",
    "#get_matchlines('B23W42B72')"
   ]
  },
  {
   "cell_type": "code",
   "execution_count": 61,
   "metadata": {},
   "outputs": [],
   "source": [
    "def writematch(path,pattern,matchcount):\n",
    "    lines = [line+'\\n' for line in get_matchlinestxt(pattern)[:-(matchcount+1):-1]]\n",
    "    with open(path,'w') as f:\n",
    "        f.write('fname,startindex,endindex,reflection,rotation\\n')\n",
    "        f.writelines(lines)"
   ]
  },
  {
   "cell_type": "code",
   "execution_count": 62,
   "metadata": {},
   "outputs": [],
   "source": [
    "writematch('KH2L\\\\matches.txt','B23W43B72',50)"
   ]
  }
 ],
 "metadata": {
  "kernelspec": {
   "display_name": "Python 3.8.0 64-bit",
   "language": "python",
   "name": "python3"
  },
  "language_info": {
   "codemirror_mode": {
    "name": "ipython",
    "version": 3
   },
   "file_extension": ".py",
   "mimetype": "text/x-python",
   "name": "python",
   "nbconvert_exporter": "python",
   "pygments_lexer": "ipython3",
   "version": "3.8.0"
  },
  "orig_nbformat": 4,
  "vscode": {
   "interpreter": {
    "hash": "6f2d7a40ed745578a3bea093cff1ffc45cd4edf156bc84d6e96b796876b665a2"
   }
  }
 },
 "nbformat": 4,
 "nbformat_minor": 2
}
